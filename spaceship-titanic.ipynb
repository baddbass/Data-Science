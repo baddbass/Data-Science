{
 "cells": [
  {
   "cell_type": "code",
   "execution_count": 1,
   "id": "95781978",
   "metadata": {
    "_cell_guid": "b1076dfc-b9ad-4769-8c92-a6c4dae69d19",
    "_uuid": "8f2839f25d086af736a60e9eeb907d3b93b6e0e5",
    "execution": {
     "iopub.execute_input": "2022-11-20T01:30:08.917842Z",
     "iopub.status.busy": "2022-11-20T01:30:08.916922Z",
     "iopub.status.idle": "2022-11-20T01:30:08.931159Z",
     "shell.execute_reply": "2022-11-20T01:30:08.929801Z"
    },
    "papermill": {
     "duration": 0.033243,
     "end_time": "2022-11-20T01:30:08.933828",
     "exception": false,
     "start_time": "2022-11-20T01:30:08.900585",
     "status": "completed"
    },
    "tags": []
   },
   "outputs": [
    {
     "name": "stdout",
     "output_type": "stream",
     "text": [
      "/kaggle/input/spaceship-titanic/sample_submission.csv\n",
      "/kaggle/input/spaceship-titanic/train.csv\n",
      "/kaggle/input/spaceship-titanic/test.csv\n"
     ]
    }
   ],
   "source": [
    "# This Python 3 environment comes with many helpful analytics libraries installed\n",
    "# It is defined by the kaggle/python Docker image: https://github.com/kaggle/docker-python\n",
    "# For example, here's several helpful packages to load\n",
    "\n",
    "import numpy as np # linear algebra\n",
    "import pandas as pd # data processing, CSV file I/O (e.g. pd.read_csv)\n",
    "\n",
    "# Input data files are available in the read-only \"../input/\" directory\n",
    "# For example, running this (by clicking run or pressing Shift+Enter) will list all files under the input directory\n",
    "\n",
    "import os\n",
    "for dirname, _, filenames in os.walk('/kaggle/input'):\n",
    "    for filename in filenames:\n",
    "        print(os.path.join(dirname, filename))\n",
    "\n",
    "# You can write up to 20GB to the current directory (/kaggle/working/) that gets preserved as output when you create a version using \"Save & Run All\" \n",
    "# You can also write temporary files to /kaggle/temp/, but they won't be saved outside of the current session"
   ]
  },
  {
   "cell_type": "code",
   "execution_count": 2,
   "id": "ce1d9136",
   "metadata": {
    "execution": {
     "iopub.execute_input": "2022-11-20T01:30:08.964361Z",
     "iopub.status.busy": "2022-11-20T01:30:08.963961Z",
     "iopub.status.idle": "2022-11-20T01:30:09.076886Z",
     "shell.execute_reply": "2022-11-20T01:30:09.075696Z"
    },
    "papermill": {
     "duration": 0.132605,
     "end_time": "2022-11-20T01:30:09.079889",
     "exception": false,
     "start_time": "2022-11-20T01:30:08.947284",
     "status": "completed"
    },
    "tags": []
   },
   "outputs": [
    {
     "data": {
      "text/html": [
       "<div>\n",
       "<style scoped>\n",
       "    .dataframe tbody tr th:only-of-type {\n",
       "        vertical-align: middle;\n",
       "    }\n",
       "\n",
       "    .dataframe tbody tr th {\n",
       "        vertical-align: top;\n",
       "    }\n",
       "\n",
       "    .dataframe thead th {\n",
       "        text-align: right;\n",
       "    }\n",
       "</style>\n",
       "<table border=\"1\" class=\"dataframe\">\n",
       "  <thead>\n",
       "    <tr style=\"text-align: right;\">\n",
       "      <th></th>\n",
       "      <th>PassengerId</th>\n",
       "      <th>HomePlanet</th>\n",
       "      <th>CryoSleep</th>\n",
       "      <th>Cabin</th>\n",
       "      <th>Destination</th>\n",
       "      <th>Age</th>\n",
       "      <th>VIP</th>\n",
       "      <th>RoomService</th>\n",
       "      <th>FoodCourt</th>\n",
       "      <th>ShoppingMall</th>\n",
       "      <th>Spa</th>\n",
       "      <th>VRDeck</th>\n",
       "      <th>Name</th>\n",
       "      <th>Transported</th>\n",
       "    </tr>\n",
       "  </thead>\n",
       "  <tbody>\n",
       "    <tr>\n",
       "      <th>0</th>\n",
       "      <td>0001_01</td>\n",
       "      <td>Europa</td>\n",
       "      <td>False</td>\n",
       "      <td>B/0/P</td>\n",
       "      <td>TRAPPIST-1e</td>\n",
       "      <td>39.0</td>\n",
       "      <td>False</td>\n",
       "      <td>0.0</td>\n",
       "      <td>0.0</td>\n",
       "      <td>0.0</td>\n",
       "      <td>0.0</td>\n",
       "      <td>0.0</td>\n",
       "      <td>Maham Ofracculy</td>\n",
       "      <td>False</td>\n",
       "    </tr>\n",
       "    <tr>\n",
       "      <th>1</th>\n",
       "      <td>0002_01</td>\n",
       "      <td>Earth</td>\n",
       "      <td>False</td>\n",
       "      <td>F/0/S</td>\n",
       "      <td>TRAPPIST-1e</td>\n",
       "      <td>24.0</td>\n",
       "      <td>False</td>\n",
       "      <td>109.0</td>\n",
       "      <td>9.0</td>\n",
       "      <td>25.0</td>\n",
       "      <td>549.0</td>\n",
       "      <td>44.0</td>\n",
       "      <td>Juanna Vines</td>\n",
       "      <td>True</td>\n",
       "    </tr>\n",
       "    <tr>\n",
       "      <th>2</th>\n",
       "      <td>0003_01</td>\n",
       "      <td>Europa</td>\n",
       "      <td>False</td>\n",
       "      <td>A/0/S</td>\n",
       "      <td>TRAPPIST-1e</td>\n",
       "      <td>58.0</td>\n",
       "      <td>True</td>\n",
       "      <td>43.0</td>\n",
       "      <td>3576.0</td>\n",
       "      <td>0.0</td>\n",
       "      <td>6715.0</td>\n",
       "      <td>49.0</td>\n",
       "      <td>Altark Susent</td>\n",
       "      <td>False</td>\n",
       "    </tr>\n",
       "    <tr>\n",
       "      <th>3</th>\n",
       "      <td>0003_02</td>\n",
       "      <td>Europa</td>\n",
       "      <td>False</td>\n",
       "      <td>A/0/S</td>\n",
       "      <td>TRAPPIST-1e</td>\n",
       "      <td>33.0</td>\n",
       "      <td>False</td>\n",
       "      <td>0.0</td>\n",
       "      <td>1283.0</td>\n",
       "      <td>371.0</td>\n",
       "      <td>3329.0</td>\n",
       "      <td>193.0</td>\n",
       "      <td>Solam Susent</td>\n",
       "      <td>False</td>\n",
       "    </tr>\n",
       "    <tr>\n",
       "      <th>4</th>\n",
       "      <td>0004_01</td>\n",
       "      <td>Earth</td>\n",
       "      <td>False</td>\n",
       "      <td>F/1/S</td>\n",
       "      <td>TRAPPIST-1e</td>\n",
       "      <td>16.0</td>\n",
       "      <td>False</td>\n",
       "      <td>303.0</td>\n",
       "      <td>70.0</td>\n",
       "      <td>151.0</td>\n",
       "      <td>565.0</td>\n",
       "      <td>2.0</td>\n",
       "      <td>Willy Santantines</td>\n",
       "      <td>True</td>\n",
       "    </tr>\n",
       "  </tbody>\n",
       "</table>\n",
       "</div>"
      ],
      "text/plain": [
       "  PassengerId HomePlanet CryoSleep  Cabin  Destination   Age    VIP  \\\n",
       "0     0001_01     Europa     False  B/0/P  TRAPPIST-1e  39.0  False   \n",
       "1     0002_01      Earth     False  F/0/S  TRAPPIST-1e  24.0  False   \n",
       "2     0003_01     Europa     False  A/0/S  TRAPPIST-1e  58.0   True   \n",
       "3     0003_02     Europa     False  A/0/S  TRAPPIST-1e  33.0  False   \n",
       "4     0004_01      Earth     False  F/1/S  TRAPPIST-1e  16.0  False   \n",
       "\n",
       "   RoomService  FoodCourt  ShoppingMall     Spa  VRDeck               Name  \\\n",
       "0          0.0        0.0           0.0     0.0     0.0    Maham Ofracculy   \n",
       "1        109.0        9.0          25.0   549.0    44.0       Juanna Vines   \n",
       "2         43.0     3576.0           0.0  6715.0    49.0      Altark Susent   \n",
       "3          0.0     1283.0         371.0  3329.0   193.0       Solam Susent   \n",
       "4        303.0       70.0         151.0   565.0     2.0  Willy Santantines   \n",
       "\n",
       "   Transported  \n",
       "0        False  \n",
       "1         True  \n",
       "2        False  \n",
       "3        False  \n",
       "4         True  "
      ]
     },
     "execution_count": 2,
     "metadata": {},
     "output_type": "execute_result"
    }
   ],
   "source": [
    "#Define the available data files\n",
    "train = pd.read_csv('/kaggle/input/spaceship-titanic/train.csv')\n",
    "test = pd.read_csv('/kaggle/input/spaceship-titanic/test.csv')\n",
    "train.head()"
   ]
  },
  {
   "cell_type": "code",
   "execution_count": 3,
   "id": "5d3258cb",
   "metadata": {
    "execution": {
     "iopub.execute_input": "2022-11-20T01:30:09.109470Z",
     "iopub.status.busy": "2022-11-20T01:30:09.109101Z",
     "iopub.status.idle": "2022-11-20T01:30:09.141230Z",
     "shell.execute_reply": "2022-11-20T01:30:09.139971Z"
    },
    "papermill": {
     "duration": 0.051941,
     "end_time": "2022-11-20T01:30:09.145962",
     "exception": false,
     "start_time": "2022-11-20T01:30:09.094021",
     "status": "completed"
    },
    "tags": []
   },
   "outputs": [
    {
     "name": "stdout",
     "output_type": "stream",
     "text": [
      "<class 'pandas.core.frame.DataFrame'>\n",
      "RangeIndex: 8693 entries, 0 to 8692\n",
      "Data columns (total 14 columns):\n",
      " #   Column        Non-Null Count  Dtype  \n",
      "---  ------        --------------  -----  \n",
      " 0   PassengerId   8693 non-null   object \n",
      " 1   HomePlanet    8492 non-null   object \n",
      " 2   CryoSleep     8476 non-null   object \n",
      " 3   Cabin         8494 non-null   object \n",
      " 4   Destination   8511 non-null   object \n",
      " 5   Age           8514 non-null   float64\n",
      " 6   VIP           8490 non-null   object \n",
      " 7   RoomService   8512 non-null   float64\n",
      " 8   FoodCourt     8510 non-null   float64\n",
      " 9   ShoppingMall  8485 non-null   float64\n",
      " 10  Spa           8510 non-null   float64\n",
      " 11  VRDeck        8505 non-null   float64\n",
      " 12  Name          8493 non-null   object \n",
      " 13  Transported   8693 non-null   bool   \n",
      "dtypes: bool(1), float64(6), object(7)\n",
      "memory usage: 891.5+ KB\n"
     ]
    }
   ],
   "source": [
    "train.info()"
   ]
  },
  {
   "cell_type": "code",
   "execution_count": 4,
   "id": "0432e4ca",
   "metadata": {
    "execution": {
     "iopub.execute_input": "2022-11-20T01:30:09.177672Z",
     "iopub.status.busy": "2022-11-20T01:30:09.176947Z",
     "iopub.status.idle": "2022-11-20T01:30:09.188590Z",
     "shell.execute_reply": "2022-11-20T01:30:09.187520Z"
    },
    "papermill": {
     "duration": 0.028979,
     "end_time": "2022-11-20T01:30:09.191015",
     "exception": false,
     "start_time": "2022-11-20T01:30:09.162036",
     "status": "completed"
    },
    "tags": []
   },
   "outputs": [
    {
     "data": {
      "text/plain": [
       "PassengerId       0\n",
       "HomePlanet      201\n",
       "CryoSleep       217\n",
       "Cabin           199\n",
       "Destination     182\n",
       "Age             179\n",
       "VIP             203\n",
       "RoomService     181\n",
       "FoodCourt       183\n",
       "ShoppingMall    208\n",
       "Spa             183\n",
       "VRDeck          188\n",
       "Name            200\n",
       "Transported       0\n",
       "dtype: int64"
      ]
     },
     "execution_count": 4,
     "metadata": {},
     "output_type": "execute_result"
    }
   ],
   "source": [
    "train.isnull().sum()"
   ]
  },
  {
   "cell_type": "markdown",
   "id": "a61e88fb",
   "metadata": {
    "papermill": {
     "duration": 0.013375,
     "end_time": "2022-11-20T01:30:09.218666",
     "exception": false,
     "start_time": "2022-11-20T01:30:09.205291",
     "status": "completed"
    },
    "tags": []
   },
   "source": [
    "We can see that other than Transported and PassengerId, the rest of the columns have Null values.\n",
    "We shall try to fill the columns we choose to use with the average value."
   ]
  },
  {
   "cell_type": "code",
   "execution_count": 5,
   "id": "e41f5ff8",
   "metadata": {
    "execution": {
     "iopub.execute_input": "2022-11-20T01:30:09.248309Z",
     "iopub.status.busy": "2022-11-20T01:30:09.247522Z",
     "iopub.status.idle": "2022-11-20T01:30:09.256704Z",
     "shell.execute_reply": "2022-11-20T01:30:09.255367Z"
    },
    "papermill": {
     "duration": 0.027036,
     "end_time": "2022-11-20T01:30:09.259320",
     "exception": false,
     "start_time": "2022-11-20T01:30:09.232284",
     "status": "completed"
    },
    "tags": []
   },
   "outputs": [
    {
     "data": {
      "text/plain": [
       "False    0.641694\n",
       "True     0.358306\n",
       "Name: CryoSleep, dtype: float64"
      ]
     },
     "execution_count": 5,
     "metadata": {},
     "output_type": "execute_result"
    }
   ],
   "source": [
    "#First we fill the missing values \n",
    "train['CryoSleep'].value_counts(normalize=True)"
   ]
  },
  {
   "cell_type": "code",
   "execution_count": 6,
   "id": "8743a995",
   "metadata": {
    "execution": {
     "iopub.execute_input": "2022-11-20T01:30:09.289574Z",
     "iopub.status.busy": "2022-11-20T01:30:09.289125Z",
     "iopub.status.idle": "2022-11-20T01:30:09.298536Z",
     "shell.execute_reply": "2022-11-20T01:30:09.296876Z"
    },
    "papermill": {
     "duration": 0.028423,
     "end_time": "2022-11-20T01:30:09.301825",
     "exception": false,
     "start_time": "2022-11-20T01:30:09.273402",
     "status": "completed"
    },
    "tags": []
   },
   "outputs": [
    {
     "name": "stdout",
     "output_type": "stream",
     "text": [
      "Percentage of null values in CryoSleep Column:  2.4962613597147127\n",
      "Number of null values in CryoSleep Column: 217\n"
     ]
    }
   ],
   "source": [
    "a = train['CryoSleep'].isna().sum()\n",
    "b = train['CryoSleep'].count()\n",
    "c= a+b\n",
    "#Percentage of null values in CryoSleep Column\n",
    "print('Percentage of null values in CryoSleep Column: ', (a/c)*100 )\n",
    "print('Number of null values in CryoSleep Column:', a)"
   ]
  },
  {
   "cell_type": "code",
   "execution_count": 7,
   "id": "5e63b7a5",
   "metadata": {
    "execution": {
     "iopub.execute_input": "2022-11-20T01:30:09.331996Z",
     "iopub.status.busy": "2022-11-20T01:30:09.331600Z",
     "iopub.status.idle": "2022-11-20T01:30:09.348793Z",
     "shell.execute_reply": "2022-11-20T01:30:09.346942Z"
    },
    "papermill": {
     "duration": 0.035416,
     "end_time": "2022-11-20T01:30:09.351805",
     "exception": false,
     "start_time": "2022-11-20T01:30:09.316389",
     "status": "completed"
    },
    "tags": []
   },
   "outputs": [
    {
     "name": "stdout",
     "output_type": "stream",
     "text": [
      "Number of null values in CryoSleep Column: 0\n"
     ]
    }
   ],
   "source": [
    "#So we are going to fill the NaN values in CryoSleep column evenly with both true and false values\n",
    "train[['CryoSleep']] = train[['CryoSleep']].fillna(value=False, limit=109)\n",
    "train[['CryoSleep']] = train[['CryoSleep']].fillna(value=True, limit=108)\n",
    "print('Number of null values in CryoSleep Column:', train['CryoSleep'].isna().sum())"
   ]
  },
  {
   "cell_type": "code",
   "execution_count": 8,
   "id": "44b69758",
   "metadata": {
    "execution": {
     "iopub.execute_input": "2022-11-20T01:30:09.382775Z",
     "iopub.status.busy": "2022-11-20T01:30:09.382073Z",
     "iopub.status.idle": "2022-11-20T01:30:09.389395Z",
     "shell.execute_reply": "2022-11-20T01:30:09.388575Z"
    },
    "papermill": {
     "duration": 0.025663,
     "end_time": "2022-11-20T01:30:09.392038",
     "exception": false,
     "start_time": "2022-11-20T01:30:09.366375",
     "status": "completed"
    },
    "tags": []
   },
   "outputs": [
    {
     "name": "stdout",
     "output_type": "stream",
     "text": [
      "Percentage of null values in VIP Column:  2.3352122397331185\n",
      "Number of null values in VIP Column: 203\n"
     ]
    }
   ],
   "source": [
    "a1 = train['VIP'].isna().sum()\n",
    "b1 = train['VIP'].count()\n",
    "c1 = a1+b1\n",
    "#Percentage of null values in VIP Column\n",
    "print('Percentage of null values in VIP Column: ', (a1/c1)*100 )\n",
    "print('Number of null values in VIP Column:', a1)"
   ]
  },
  {
   "cell_type": "code",
   "execution_count": 9,
   "id": "91e89699",
   "metadata": {
    "execution": {
     "iopub.execute_input": "2022-11-20T01:30:09.423955Z",
     "iopub.status.busy": "2022-11-20T01:30:09.423342Z",
     "iopub.status.idle": "2022-11-20T01:30:09.431825Z",
     "shell.execute_reply": "2022-11-20T01:30:09.430733Z"
    },
    "papermill": {
     "duration": 0.027081,
     "end_time": "2022-11-20T01:30:09.434193",
     "exception": false,
     "start_time": "2022-11-20T01:30:09.407112",
     "status": "completed"
    },
    "tags": []
   },
   "outputs": [
    {
     "data": {
      "text/plain": [
       "False    0.976561\n",
       "True     0.023439\n",
       "Name: VIP, dtype: float64"
      ]
     },
     "execution_count": 9,
     "metadata": {},
     "output_type": "execute_result"
    }
   ],
   "source": [
    "train['VIP'].value_counts(normalize=True)"
   ]
  },
  {
   "cell_type": "code",
   "execution_count": 10,
   "id": "8015d622",
   "metadata": {
    "execution": {
     "iopub.execute_input": "2022-11-20T01:30:09.466233Z",
     "iopub.status.busy": "2022-11-20T01:30:09.465598Z",
     "iopub.status.idle": "2022-11-20T01:30:09.478693Z",
     "shell.execute_reply": "2022-11-20T01:30:09.477330Z"
    },
    "papermill": {
     "duration": 0.031861,
     "end_time": "2022-11-20T01:30:09.481312",
     "exception": false,
     "start_time": "2022-11-20T01:30:09.449451",
     "status": "completed"
    },
    "tags": []
   },
   "outputs": [
    {
     "name": "stdout",
     "output_type": "stream",
     "text": [
      "Number of null values in VIP Column: 0\n"
     ]
    }
   ],
   "source": [
    "#So we are going to fill the NaN values in VIP column evenly with both true and false values\n",
    "train[['VIP']] = train[['VIP']].fillna(value=False, limit=102)\n",
    "train[['VIP']] = train[['VIP']].fillna(value=True, limit=101)\n",
    "print('Number of null values in VIP Column:', train['VIP'].isna().sum())"
   ]
  },
  {
   "cell_type": "code",
   "execution_count": 11,
   "id": "2a532895",
   "metadata": {
    "execution": {
     "iopub.execute_input": "2022-11-20T01:30:09.515651Z",
     "iopub.status.busy": "2022-11-20T01:30:09.514722Z",
     "iopub.status.idle": "2022-11-20T01:30:09.529179Z",
     "shell.execute_reply": "2022-11-20T01:30:09.527151Z"
    },
    "papermill": {
     "duration": 0.034587,
     "end_time": "2022-11-20T01:30:09.532433",
     "exception": false,
     "start_time": "2022-11-20T01:30:09.497846",
     "status": "completed"
    },
    "tags": []
   },
   "outputs": [
    {
     "name": "stdout",
     "output_type": "stream",
     "text": [
      "Null values in Age:  179\n",
      "Meadian of Age excluding NaN: 27.0\n",
      "Null values in Age now:  179\n"
     ]
    }
   ],
   "source": [
    "#Next we fill NaN values in Age\n",
    "g = train['Age'].isna().sum()\n",
    "print('Null values in Age: ', g)\n",
    "print('Meadian of Age excluding NaN:', train['Age'].median(skipna=True))\n",
    "train[['Age']] = train[['Age']].fillna(value=train['Age'].median(skipna=True))\n",
    "print('Null values in Age now: ', g)"
   ]
  },
  {
   "cell_type": "code",
   "execution_count": 12,
   "id": "8f1d669a",
   "metadata": {
    "execution": {
     "iopub.execute_input": "2022-11-20T01:30:09.564052Z",
     "iopub.status.busy": "2022-11-20T01:30:09.562897Z",
     "iopub.status.idle": "2022-11-20T01:30:09.581247Z",
     "shell.execute_reply": "2022-11-20T01:30:09.580043Z"
    },
    "papermill": {
     "duration": 0.037852,
     "end_time": "2022-11-20T01:30:09.584824",
     "exception": false,
     "start_time": "2022-11-20T01:30:09.546972",
     "status": "completed"
    },
    "tags": []
   },
   "outputs": [
    {
     "data": {
      "text/plain": [
       "PassengerId       0\n",
       "HomePlanet      201\n",
       "CryoSleep         0\n",
       "Cabin           199\n",
       "Destination     182\n",
       "Age               0\n",
       "VIP               0\n",
       "RoomService       0\n",
       "FoodCourt         0\n",
       "ShoppingMall      0\n",
       "Spa               0\n",
       "VRDeck            0\n",
       "Name            200\n",
       "Transported       0\n",
       "dtype: int64"
      ]
     },
     "execution_count": 12,
     "metadata": {},
     "output_type": "execute_result"
    }
   ],
   "source": [
    "#Now we are going to fill the Nan values in RoomSerivce, FoodCourt, ShopingMall, VRdeck with 0.0\n",
    "train[['RoomService', 'FoodCourt', 'ShoppingMall', 'Spa', 'VRDeck']] = train[['RoomService', 'FoodCourt', 'ShoppingMall', 'Spa', 'VRDeck']].fillna(value=0.0)\n",
    "train.isnull().sum()"
   ]
  },
  {
   "cell_type": "code",
   "execution_count": 13,
   "id": "e4b16c79",
   "metadata": {
    "execution": {
     "iopub.execute_input": "2022-11-20T01:30:09.616183Z",
     "iopub.status.busy": "2022-11-20T01:30:09.615215Z",
     "iopub.status.idle": "2022-11-20T01:30:09.628708Z",
     "shell.execute_reply": "2022-11-20T01:30:09.627278Z"
    },
    "papermill": {
     "duration": 0.03246,
     "end_time": "2022-11-20T01:30:09.631807",
     "exception": false,
     "start_time": "2022-11-20T01:30:09.599347",
     "status": "completed"
    },
    "tags": []
   },
   "outputs": [
    {
     "name": "stdout",
     "output_type": "stream",
     "text": [
      "NaN values in Homeplanet:  201\n"
     ]
    },
    {
     "data": {
      "text/plain": [
       "Earth     0.541922\n",
       "Europa    0.250942\n",
       "Mars      0.207136\n",
       "Name: HomePlanet, dtype: float64"
      ]
     },
     "execution_count": 13,
     "metadata": {},
     "output_type": "execute_result"
    }
   ],
   "source": [
    "#Let's work on the HomePlanet Column\n",
    "print('NaN values in Homeplanet: ', train['HomePlanet'].isna().sum())\n",
    "train['HomePlanet'].value_counts(normalize=True)"
   ]
  },
  {
   "cell_type": "code",
   "execution_count": 14,
   "id": "66a32b7c",
   "metadata": {
    "execution": {
     "iopub.execute_input": "2022-11-20T01:30:09.663102Z",
     "iopub.status.busy": "2022-11-20T01:30:09.662695Z",
     "iopub.status.idle": "2022-11-20T01:30:09.680065Z",
     "shell.execute_reply": "2022-11-20T01:30:09.678405Z"
    },
    "papermill": {
     "duration": 0.036367,
     "end_time": "2022-11-20T01:30:09.682895",
     "exception": false,
     "start_time": "2022-11-20T01:30:09.646528",
     "status": "completed"
    },
    "tags": []
   },
   "outputs": [
    {
     "name": "stdout",
     "output_type": "stream",
     "text": [
      "NaN values in Homeplanet:  0\n"
     ]
    }
   ],
   "source": [
    "j = int((train['HomePlanet'].isna().sum())/3)\n",
    "train[['HomePlanet']] = train[['HomePlanet']].fillna(value='Earth', limit=j)\n",
    "train[['HomePlanet']] = train[['HomePlanet']].fillna(value='Europa', limit=j)\n",
    "train[['HomePlanet']] = train[['HomePlanet']].fillna(value='Mars', limit=j)\n",
    "print('NaN values in Homeplanet: ', train['HomePlanet'].isna().sum()) "
   ]
  },
  {
   "cell_type": "code",
   "execution_count": 15,
   "id": "19bbd2b1",
   "metadata": {
    "execution": {
     "iopub.execute_input": "2022-11-20T01:30:09.713653Z",
     "iopub.status.busy": "2022-11-20T01:30:09.713203Z",
     "iopub.status.idle": "2022-11-20T01:30:09.726047Z",
     "shell.execute_reply": "2022-11-20T01:30:09.724992Z"
    },
    "papermill": {
     "duration": 0.031102,
     "end_time": "2022-11-20T01:30:09.728513",
     "exception": false,
     "start_time": "2022-11-20T01:30:09.697411",
     "status": "completed"
    },
    "tags": []
   },
   "outputs": [
    {
     "data": {
      "text/plain": [
       "PassengerId       0\n",
       "HomePlanet        0\n",
       "CryoSleep         0\n",
       "Cabin           199\n",
       "Destination     182\n",
       "Age               0\n",
       "VIP               0\n",
       "RoomService       0\n",
       "FoodCourt         0\n",
       "ShoppingMall      0\n",
       "Spa               0\n",
       "VRDeck            0\n",
       "Name            200\n",
       "Transported       0\n",
       "dtype: int64"
      ]
     },
     "execution_count": 15,
     "metadata": {},
     "output_type": "execute_result"
    }
   ],
   "source": [
    "train.isnull().sum()"
   ]
  },
  {
   "cell_type": "code",
   "execution_count": 16,
   "id": "3a58c45b",
   "metadata": {
    "execution": {
     "iopub.execute_input": "2022-11-20T01:30:09.760348Z",
     "iopub.status.busy": "2022-11-20T01:30:09.759919Z",
     "iopub.status.idle": "2022-11-20T01:30:09.782935Z",
     "shell.execute_reply": "2022-11-20T01:30:09.781606Z"
    },
    "papermill": {
     "duration": 0.041641,
     "end_time": "2022-11-20T01:30:09.785299",
     "exception": false,
     "start_time": "2022-11-20T01:30:09.743658",
     "status": "completed"
    },
    "tags": []
   },
   "outputs": [
    {
     "data": {
      "text/html": [
       "<div>\n",
       "<style scoped>\n",
       "    .dataframe tbody tr th:only-of-type {\n",
       "        vertical-align: middle;\n",
       "    }\n",
       "\n",
       "    .dataframe tbody tr th {\n",
       "        vertical-align: top;\n",
       "    }\n",
       "\n",
       "    .dataframe thead th {\n",
       "        text-align: right;\n",
       "    }\n",
       "</style>\n",
       "<table border=\"1\" class=\"dataframe\">\n",
       "  <thead>\n",
       "    <tr style=\"text-align: right;\">\n",
       "      <th></th>\n",
       "      <th>PassengerId</th>\n",
       "      <th>HomePlanet</th>\n",
       "      <th>CryoSleep</th>\n",
       "      <th>Cabin</th>\n",
       "      <th>Destination</th>\n",
       "      <th>Age</th>\n",
       "      <th>VIP</th>\n",
       "      <th>RoomService</th>\n",
       "      <th>FoodCourt</th>\n",
       "      <th>ShoppingMall</th>\n",
       "      <th>Spa</th>\n",
       "      <th>VRDeck</th>\n",
       "      <th>Name</th>\n",
       "      <th>Transported</th>\n",
       "    </tr>\n",
       "  </thead>\n",
       "  <tbody>\n",
       "    <tr>\n",
       "      <th>0</th>\n",
       "      <td>0001_01</td>\n",
       "      <td>Europa</td>\n",
       "      <td>False</td>\n",
       "      <td>B/0/P</td>\n",
       "      <td>TRAPPIST-1e</td>\n",
       "      <td>39.0</td>\n",
       "      <td>False</td>\n",
       "      <td>0.0</td>\n",
       "      <td>0.0</td>\n",
       "      <td>0.0</td>\n",
       "      <td>0.0</td>\n",
       "      <td>0.0</td>\n",
       "      <td>Maham Ofracculy</td>\n",
       "      <td>False</td>\n",
       "    </tr>\n",
       "    <tr>\n",
       "      <th>1</th>\n",
       "      <td>0002_01</td>\n",
       "      <td>Earth</td>\n",
       "      <td>False</td>\n",
       "      <td>F/0/S</td>\n",
       "      <td>TRAPPIST-1e</td>\n",
       "      <td>24.0</td>\n",
       "      <td>False</td>\n",
       "      <td>109.0</td>\n",
       "      <td>9.0</td>\n",
       "      <td>25.0</td>\n",
       "      <td>549.0</td>\n",
       "      <td>44.0</td>\n",
       "      <td>Juanna Vines</td>\n",
       "      <td>True</td>\n",
       "    </tr>\n",
       "    <tr>\n",
       "      <th>2</th>\n",
       "      <td>0003_01</td>\n",
       "      <td>Europa</td>\n",
       "      <td>False</td>\n",
       "      <td>A/0/S</td>\n",
       "      <td>TRAPPIST-1e</td>\n",
       "      <td>58.0</td>\n",
       "      <td>True</td>\n",
       "      <td>43.0</td>\n",
       "      <td>3576.0</td>\n",
       "      <td>0.0</td>\n",
       "      <td>6715.0</td>\n",
       "      <td>49.0</td>\n",
       "      <td>Altark Susent</td>\n",
       "      <td>False</td>\n",
       "    </tr>\n",
       "    <tr>\n",
       "      <th>3</th>\n",
       "      <td>0003_02</td>\n",
       "      <td>Europa</td>\n",
       "      <td>False</td>\n",
       "      <td>A/0/S</td>\n",
       "      <td>TRAPPIST-1e</td>\n",
       "      <td>33.0</td>\n",
       "      <td>False</td>\n",
       "      <td>0.0</td>\n",
       "      <td>1283.0</td>\n",
       "      <td>371.0</td>\n",
       "      <td>3329.0</td>\n",
       "      <td>193.0</td>\n",
       "      <td>Solam Susent</td>\n",
       "      <td>False</td>\n",
       "    </tr>\n",
       "    <tr>\n",
       "      <th>4</th>\n",
       "      <td>0004_01</td>\n",
       "      <td>Earth</td>\n",
       "      <td>False</td>\n",
       "      <td>F/1/S</td>\n",
       "      <td>TRAPPIST-1e</td>\n",
       "      <td>16.0</td>\n",
       "      <td>False</td>\n",
       "      <td>303.0</td>\n",
       "      <td>70.0</td>\n",
       "      <td>151.0</td>\n",
       "      <td>565.0</td>\n",
       "      <td>2.0</td>\n",
       "      <td>Willy Santantines</td>\n",
       "      <td>True</td>\n",
       "    </tr>\n",
       "  </tbody>\n",
       "</table>\n",
       "</div>"
      ],
      "text/plain": [
       "  PassengerId HomePlanet  CryoSleep  Cabin  Destination   Age    VIP  \\\n",
       "0     0001_01     Europa      False  B/0/P  TRAPPIST-1e  39.0  False   \n",
       "1     0002_01      Earth      False  F/0/S  TRAPPIST-1e  24.0  False   \n",
       "2     0003_01     Europa      False  A/0/S  TRAPPIST-1e  58.0   True   \n",
       "3     0003_02     Europa      False  A/0/S  TRAPPIST-1e  33.0  False   \n",
       "4     0004_01      Earth      False  F/1/S  TRAPPIST-1e  16.0  False   \n",
       "\n",
       "   RoomService  FoodCourt  ShoppingMall     Spa  VRDeck               Name  \\\n",
       "0          0.0        0.0           0.0     0.0     0.0    Maham Ofracculy   \n",
       "1        109.0        9.0          25.0   549.0    44.0       Juanna Vines   \n",
       "2         43.0     3576.0           0.0  6715.0    49.0      Altark Susent   \n",
       "3          0.0     1283.0         371.0  3329.0   193.0       Solam Susent   \n",
       "4        303.0       70.0         151.0   565.0     2.0  Willy Santantines   \n",
       "\n",
       "   Transported  \n",
       "0        False  \n",
       "1         True  \n",
       "2        False  \n",
       "3        False  \n",
       "4         True  "
      ]
     },
     "execution_count": 16,
     "metadata": {},
     "output_type": "execute_result"
    }
   ],
   "source": [
    "train.head()"
   ]
  },
  {
   "cell_type": "markdown",
   "id": "5f2bb114",
   "metadata": {
    "papermill": {
     "duration": 0.014686,
     "end_time": "2022-11-20T01:30:09.815038",
     "exception": false,
     "start_time": "2022-11-20T01:30:09.800352",
     "status": "completed"
    },
    "tags": []
   },
   "source": [
    "We are now going to forward convert values of our feature columns from string to integers to better fit into our model.\n",
    "False = 0 \n",
    "True = 1\n",
    "Earth = 1\n",
    "Europa = 2\n",
    "Mars = 3"
   ]
  },
  {
   "cell_type": "code",
   "execution_count": 17,
   "id": "d69d34c9",
   "metadata": {
    "execution": {
     "iopub.execute_input": "2022-11-20T01:30:09.846904Z",
     "iopub.status.busy": "2022-11-20T01:30:09.846475Z",
     "iopub.status.idle": "2022-11-20T01:30:09.887611Z",
     "shell.execute_reply": "2022-11-20T01:30:09.886346Z"
    },
    "papermill": {
     "duration": 0.060024,
     "end_time": "2022-11-20T01:30:09.889971",
     "exception": false,
     "start_time": "2022-11-20T01:30:09.829947",
     "status": "completed"
    },
    "tags": []
   },
   "outputs": [
    {
     "data": {
      "text/html": [
       "<div>\n",
       "<style scoped>\n",
       "    .dataframe tbody tr th:only-of-type {\n",
       "        vertical-align: middle;\n",
       "    }\n",
       "\n",
       "    .dataframe tbody tr th {\n",
       "        vertical-align: top;\n",
       "    }\n",
       "\n",
       "    .dataframe thead th {\n",
       "        text-align: right;\n",
       "    }\n",
       "</style>\n",
       "<table border=\"1\" class=\"dataframe\">\n",
       "  <thead>\n",
       "    <tr style=\"text-align: right;\">\n",
       "      <th></th>\n",
       "      <th>PassengerId</th>\n",
       "      <th>HomePlanet</th>\n",
       "      <th>CryoSleep</th>\n",
       "      <th>Cabin</th>\n",
       "      <th>Destination</th>\n",
       "      <th>Age</th>\n",
       "      <th>VIP</th>\n",
       "      <th>RoomService</th>\n",
       "      <th>FoodCourt</th>\n",
       "      <th>ShoppingMall</th>\n",
       "      <th>Spa</th>\n",
       "      <th>VRDeck</th>\n",
       "      <th>Name</th>\n",
       "      <th>Transported</th>\n",
       "    </tr>\n",
       "  </thead>\n",
       "  <tbody>\n",
       "    <tr>\n",
       "      <th>0</th>\n",
       "      <td>0001_01</td>\n",
       "      <td>2</td>\n",
       "      <td>0</td>\n",
       "      <td>B/0/P</td>\n",
       "      <td>TRAPPIST-1e</td>\n",
       "      <td>39.0</td>\n",
       "      <td>0</td>\n",
       "      <td>0.0</td>\n",
       "      <td>0.0</td>\n",
       "      <td>0.0</td>\n",
       "      <td>0.0</td>\n",
       "      <td>0.0</td>\n",
       "      <td>Maham Ofracculy</td>\n",
       "      <td>0</td>\n",
       "    </tr>\n",
       "    <tr>\n",
       "      <th>1</th>\n",
       "      <td>0002_01</td>\n",
       "      <td>1</td>\n",
       "      <td>0</td>\n",
       "      <td>F/0/S</td>\n",
       "      <td>TRAPPIST-1e</td>\n",
       "      <td>24.0</td>\n",
       "      <td>0</td>\n",
       "      <td>109.0</td>\n",
       "      <td>9.0</td>\n",
       "      <td>25.0</td>\n",
       "      <td>549.0</td>\n",
       "      <td>44.0</td>\n",
       "      <td>Juanna Vines</td>\n",
       "      <td>1</td>\n",
       "    </tr>\n",
       "    <tr>\n",
       "      <th>2</th>\n",
       "      <td>0003_01</td>\n",
       "      <td>2</td>\n",
       "      <td>0</td>\n",
       "      <td>A/0/S</td>\n",
       "      <td>TRAPPIST-1e</td>\n",
       "      <td>58.0</td>\n",
       "      <td>1</td>\n",
       "      <td>43.0</td>\n",
       "      <td>3576.0</td>\n",
       "      <td>0.0</td>\n",
       "      <td>6715.0</td>\n",
       "      <td>49.0</td>\n",
       "      <td>Altark Susent</td>\n",
       "      <td>0</td>\n",
       "    </tr>\n",
       "    <tr>\n",
       "      <th>3</th>\n",
       "      <td>0003_02</td>\n",
       "      <td>2</td>\n",
       "      <td>0</td>\n",
       "      <td>A/0/S</td>\n",
       "      <td>TRAPPIST-1e</td>\n",
       "      <td>33.0</td>\n",
       "      <td>0</td>\n",
       "      <td>0.0</td>\n",
       "      <td>1283.0</td>\n",
       "      <td>371.0</td>\n",
       "      <td>3329.0</td>\n",
       "      <td>193.0</td>\n",
       "      <td>Solam Susent</td>\n",
       "      <td>0</td>\n",
       "    </tr>\n",
       "    <tr>\n",
       "      <th>4</th>\n",
       "      <td>0004_01</td>\n",
       "      <td>1</td>\n",
       "      <td>0</td>\n",
       "      <td>F/1/S</td>\n",
       "      <td>TRAPPIST-1e</td>\n",
       "      <td>16.0</td>\n",
       "      <td>0</td>\n",
       "      <td>303.0</td>\n",
       "      <td>70.0</td>\n",
       "      <td>151.0</td>\n",
       "      <td>565.0</td>\n",
       "      <td>2.0</td>\n",
       "      <td>Willy Santantines</td>\n",
       "      <td>1</td>\n",
       "    </tr>\n",
       "  </tbody>\n",
       "</table>\n",
       "</div>"
      ],
      "text/plain": [
       "  PassengerId  HomePlanet  CryoSleep  Cabin  Destination   Age  VIP  \\\n",
       "0     0001_01           2          0  B/0/P  TRAPPIST-1e  39.0    0   \n",
       "1     0002_01           1          0  F/0/S  TRAPPIST-1e  24.0    0   \n",
       "2     0003_01           2          0  A/0/S  TRAPPIST-1e  58.0    1   \n",
       "3     0003_02           2          0  A/0/S  TRAPPIST-1e  33.0    0   \n",
       "4     0004_01           1          0  F/1/S  TRAPPIST-1e  16.0    0   \n",
       "\n",
       "   RoomService  FoodCourt  ShoppingMall     Spa  VRDeck               Name  \\\n",
       "0          0.0        0.0           0.0     0.0     0.0    Maham Ofracculy   \n",
       "1        109.0        9.0          25.0   549.0    44.0       Juanna Vines   \n",
       "2         43.0     3576.0           0.0  6715.0    49.0      Altark Susent   \n",
       "3          0.0     1283.0         371.0  3329.0   193.0       Solam Susent   \n",
       "4        303.0       70.0         151.0   565.0     2.0  Willy Santantines   \n",
       "\n",
       "   Transported  \n",
       "0            0  \n",
       "1            1  \n",
       "2            0  \n",
       "3            0  \n",
       "4            1  "
      ]
     },
     "execution_count": 17,
     "metadata": {},
     "output_type": "execute_result"
    }
   ],
   "source": [
    "train.replace(to_replace=[False, True, 'Earth', 'Europa', 'Mars'], value=[0, 1, 1, 2, 3], inplace=True)\n",
    "train.head()"
   ]
  },
  {
   "cell_type": "markdown",
   "id": "72de7b41",
   "metadata": {
    "papermill": {
     "duration": 0.014732,
     "end_time": "2022-11-20T01:30:09.919844",
     "exception": false,
     "start_time": "2022-11-20T01:30:09.905112",
     "status": "completed"
    },
    "tags": []
   },
   "source": [
    "**FEATURE SELECTION AND DATA NORMALIZATION**"
   ]
  },
  {
   "cell_type": "code",
   "execution_count": 18,
   "id": "2332631b",
   "metadata": {
    "execution": {
     "iopub.execute_input": "2022-11-20T01:30:09.952501Z",
     "iopub.status.busy": "2022-11-20T01:30:09.952097Z",
     "iopub.status.idle": "2022-11-20T01:30:09.970859Z",
     "shell.execute_reply": "2022-11-20T01:30:09.969478Z"
    },
    "papermill": {
     "duration": 0.03788,
     "end_time": "2022-11-20T01:30:09.973231",
     "exception": false,
     "start_time": "2022-11-20T01:30:09.935351",
     "status": "completed"
    },
    "tags": []
   },
   "outputs": [
    {
     "data": {
      "text/html": [
       "<div>\n",
       "<style scoped>\n",
       "    .dataframe tbody tr th:only-of-type {\n",
       "        vertical-align: middle;\n",
       "    }\n",
       "\n",
       "    .dataframe tbody tr th {\n",
       "        vertical-align: top;\n",
       "    }\n",
       "\n",
       "    .dataframe thead th {\n",
       "        text-align: right;\n",
       "    }\n",
       "</style>\n",
       "<table border=\"1\" class=\"dataframe\">\n",
       "  <thead>\n",
       "    <tr style=\"text-align: right;\">\n",
       "      <th></th>\n",
       "      <th>HomePlanet</th>\n",
       "      <th>CryoSleep</th>\n",
       "      <th>Age</th>\n",
       "      <th>VIP</th>\n",
       "      <th>RoomService</th>\n",
       "      <th>FoodCourt</th>\n",
       "      <th>ShoppingMall</th>\n",
       "      <th>Spa</th>\n",
       "      <th>VRDeck</th>\n",
       "    </tr>\n",
       "  </thead>\n",
       "  <tbody>\n",
       "    <tr>\n",
       "      <th>0</th>\n",
       "      <td>2</td>\n",
       "      <td>0</td>\n",
       "      <td>39.0</td>\n",
       "      <td>0</td>\n",
       "      <td>0.0</td>\n",
       "      <td>0.0</td>\n",
       "      <td>0.0</td>\n",
       "      <td>0.0</td>\n",
       "      <td>0.0</td>\n",
       "    </tr>\n",
       "    <tr>\n",
       "      <th>1</th>\n",
       "      <td>1</td>\n",
       "      <td>0</td>\n",
       "      <td>24.0</td>\n",
       "      <td>0</td>\n",
       "      <td>109.0</td>\n",
       "      <td>9.0</td>\n",
       "      <td>25.0</td>\n",
       "      <td>549.0</td>\n",
       "      <td>44.0</td>\n",
       "    </tr>\n",
       "    <tr>\n",
       "      <th>2</th>\n",
       "      <td>2</td>\n",
       "      <td>0</td>\n",
       "      <td>58.0</td>\n",
       "      <td>1</td>\n",
       "      <td>43.0</td>\n",
       "      <td>3576.0</td>\n",
       "      <td>0.0</td>\n",
       "      <td>6715.0</td>\n",
       "      <td>49.0</td>\n",
       "    </tr>\n",
       "    <tr>\n",
       "      <th>3</th>\n",
       "      <td>2</td>\n",
       "      <td>0</td>\n",
       "      <td>33.0</td>\n",
       "      <td>0</td>\n",
       "      <td>0.0</td>\n",
       "      <td>1283.0</td>\n",
       "      <td>371.0</td>\n",
       "      <td>3329.0</td>\n",
       "      <td>193.0</td>\n",
       "    </tr>\n",
       "    <tr>\n",
       "      <th>4</th>\n",
       "      <td>1</td>\n",
       "      <td>0</td>\n",
       "      <td>16.0</td>\n",
       "      <td>0</td>\n",
       "      <td>303.0</td>\n",
       "      <td>70.0</td>\n",
       "      <td>151.0</td>\n",
       "      <td>565.0</td>\n",
       "      <td>2.0</td>\n",
       "    </tr>\n",
       "  </tbody>\n",
       "</table>\n",
       "</div>"
      ],
      "text/plain": [
       "   HomePlanet  CryoSleep   Age  VIP  RoomService  FoodCourt  ShoppingMall  \\\n",
       "0           2          0  39.0    0          0.0        0.0           0.0   \n",
       "1           1          0  24.0    0        109.0        9.0          25.0   \n",
       "2           2          0  58.0    1         43.0     3576.0           0.0   \n",
       "3           2          0  33.0    0          0.0     1283.0         371.0   \n",
       "4           1          0  16.0    0        303.0       70.0         151.0   \n",
       "\n",
       "      Spa  VRDeck  \n",
       "0     0.0     0.0  \n",
       "1   549.0    44.0  \n",
       "2  6715.0    49.0  \n",
       "3  3329.0   193.0  \n",
       "4   565.0     2.0  "
      ]
     },
     "execution_count": 18,
     "metadata": {},
     "output_type": "execute_result"
    }
   ],
   "source": [
    "#Let's filter out our feature columns\n",
    "X = train[['HomePlanet', 'CryoSleep', 'Age', 'VIP', 'RoomService', 'FoodCourt', 'ShoppingMall', 'Spa', 'VRDeck']]\n",
    "X[0:5]"
   ]
  },
  {
   "cell_type": "code",
   "execution_count": 19,
   "id": "4c7794cb",
   "metadata": {
    "execution": {
     "iopub.execute_input": "2022-11-20T01:30:10.007228Z",
     "iopub.status.busy": "2022-11-20T01:30:10.006850Z",
     "iopub.status.idle": "2022-11-20T01:30:11.043657Z",
     "shell.execute_reply": "2022-11-20T01:30:11.042436Z"
    },
    "papermill": {
     "duration": 1.057526,
     "end_time": "2022-11-20T01:30:11.046724",
     "exception": false,
     "start_time": "2022-11-20T01:30:09.989198",
     "status": "completed"
    },
    "tags": []
   },
   "outputs": [],
   "source": [
    "import matplotlib.pyplot as plt\n",
    "import itertools\n",
    "from sklearn import preprocessing "
   ]
  },
  {
   "cell_type": "code",
   "execution_count": 20,
   "id": "5df99ce9",
   "metadata": {
    "execution": {
     "iopub.execute_input": "2022-11-20T01:30:11.080366Z",
     "iopub.status.busy": "2022-11-20T01:30:11.079947Z",
     "iopub.status.idle": "2022-11-20T01:30:11.088087Z",
     "shell.execute_reply": "2022-11-20T01:30:11.086932Z"
    },
    "papermill": {
     "duration": 0.027972,
     "end_time": "2022-11-20T01:30:11.090362",
     "exception": false,
     "start_time": "2022-11-20T01:30:11.062390",
     "status": "completed"
    },
    "tags": []
   },
   "outputs": [
    {
     "data": {
      "text/plain": [
       "array([0, 1, 0, 0, 1])"
      ]
     },
     "execution_count": 20,
     "metadata": {},
     "output_type": "execute_result"
    }
   ],
   "source": [
    "y = train['Transported'].values\n",
    "y[0:5]"
   ]
  },
  {
   "cell_type": "code",
   "execution_count": 21,
   "id": "b2d36979",
   "metadata": {
    "execution": {
     "iopub.execute_input": "2022-11-20T01:30:11.123499Z",
     "iopub.status.busy": "2022-11-20T01:30:11.123110Z",
     "iopub.status.idle": "2022-11-20T01:30:11.137582Z",
     "shell.execute_reply": "2022-11-20T01:30:11.136368Z"
    },
    "papermill": {
     "duration": 0.033972,
     "end_time": "2022-11-20T01:30:11.139971",
     "exception": false,
     "start_time": "2022-11-20T01:30:11.105999",
     "status": "completed"
    },
    "tags": []
   },
   "outputs": [
    {
     "data": {
      "text/plain": [
       "array([[ 0.40874379, -0.75290832,  0.71194537, -0.18906103, -0.33310466,\n",
       "        -0.28102673, -0.28357863, -0.2706259 , -0.26300329],\n",
       "       [-0.8410662 , -0.75290832, -0.33403748, -0.18906103, -0.16807343,\n",
       "        -0.27538657, -0.24177071,  0.21715825, -0.22420468],\n",
       "       [ 0.40874379, -0.75290832,  2.03685698,  5.28929737, -0.2680006 ,\n",
       "         1.95999765, -0.28357863,  5.69562289, -0.21979574],\n",
       "       [ 0.40874379, -0.75290832,  0.29355223, -0.18906103, -0.33310466,\n",
       "         0.5230097 ,  0.33685096,  2.68717637, -0.09281847],\n",
       "       [-0.8410662 , -0.75290832, -0.891895  , -0.18906103,  0.12565187,\n",
       "        -0.2371588 , -0.03105877,  0.23137418, -0.26123971]])"
      ]
     },
     "execution_count": 21,
     "metadata": {},
     "output_type": "execute_result"
    }
   ],
   "source": [
    "X = preprocessing.StandardScaler().fit(X).transform(X)\n",
    "X[0:5]"
   ]
  },
  {
   "cell_type": "code",
   "execution_count": 22,
   "id": "5fe3ce2e",
   "metadata": {
    "execution": {
     "iopub.execute_input": "2022-11-20T01:30:11.174238Z",
     "iopub.status.busy": "2022-11-20T01:30:11.173822Z",
     "iopub.status.idle": "2022-11-20T01:30:11.243236Z",
     "shell.execute_reply": "2022-11-20T01:30:11.241632Z"
    },
    "papermill": {
     "duration": 0.089733,
     "end_time": "2022-11-20T01:30:11.246010",
     "exception": false,
     "start_time": "2022-11-20T01:30:11.156277",
     "status": "completed"
    },
    "tags": []
   },
   "outputs": [
    {
     "name": "stdout",
     "output_type": "stream",
     "text": [
      "Train set:  (6519, 9) (6519,)\n",
      "Test set:  (2174, 9) (2174,)\n"
     ]
    }
   ],
   "source": [
    "from sklearn.model_selection import train_test_split\n",
    "#Let's split the data\n",
    "X_train, X_test, y_train, y_test = train_test_split(X, y, test_size=0.25, random_state=0)\n",
    "print('Train set: ', X_train.shape, y_train.shape)\n",
    "print('Test set: ', X_test.shape, y_test.shape)"
   ]
  },
  {
   "cell_type": "code",
   "execution_count": 23,
   "id": "67e030ce",
   "metadata": {
    "execution": {
     "iopub.execute_input": "2022-11-20T01:30:11.283917Z",
     "iopub.status.busy": "2022-11-20T01:30:11.282887Z",
     "iopub.status.idle": "2022-11-20T01:30:11.436996Z",
     "shell.execute_reply": "2022-11-20T01:30:11.435310Z"
    },
    "papermill": {
     "duration": 0.179012,
     "end_time": "2022-11-20T01:30:11.441307",
     "exception": false,
     "start_time": "2022-11-20T01:30:11.262295",
     "status": "completed"
    },
    "tags": []
   },
   "outputs": [
    {
     "data": {
      "text/plain": [
       "LogisticRegression(C=0.5)"
      ]
     },
     "execution_count": 23,
     "metadata": {},
     "output_type": "execute_result"
    }
   ],
   "source": [
    "from sklearn.linear_model import LogisticRegression\n",
    "LR_model = LogisticRegression(C=0.5).fit(X_train, y_train)\n",
    "LR_model"
   ]
  },
  {
   "cell_type": "code",
   "execution_count": 24,
   "id": "ade2bebc",
   "metadata": {
    "execution": {
     "iopub.execute_input": "2022-11-20T01:30:11.524183Z",
     "iopub.status.busy": "2022-11-20T01:30:11.523378Z",
     "iopub.status.idle": "2022-11-20T01:30:11.539428Z",
     "shell.execute_reply": "2022-11-20T01:30:11.537821Z"
    },
    "papermill": {
     "duration": 0.062754,
     "end_time": "2022-11-20T01:30:11.544199",
     "exception": false,
     "start_time": "2022-11-20T01:30:11.481445",
     "status": "completed"
    },
    "tags": []
   },
   "outputs": [
    {
     "data": {
      "text/plain": [
       "array([0, 1, 0, ..., 1, 1, 1])"
      ]
     },
     "execution_count": 24,
     "metadata": {},
     "output_type": "execute_result"
    }
   ],
   "source": [
    "yhat = LR_model.predict(X_test)\n",
    "yhat"
   ]
  },
  {
   "cell_type": "code",
   "execution_count": 25,
   "id": "5fd99ac2",
   "metadata": {
    "execution": {
     "iopub.execute_input": "2022-11-20T01:30:11.628816Z",
     "iopub.status.busy": "2022-11-20T01:30:11.628148Z",
     "iopub.status.idle": "2022-11-20T01:30:11.648029Z",
     "shell.execute_reply": "2022-11-20T01:30:11.646433Z"
    },
    "papermill": {
     "duration": 0.065401,
     "end_time": "2022-11-20T01:30:11.651212",
     "exception": false,
     "start_time": "2022-11-20T01:30:11.585811",
     "status": "completed"
    },
    "tags": []
   },
   "outputs": [
    {
     "data": {
      "text/plain": [
       "0.7856485740570377"
      ]
     },
     "execution_count": 25,
     "metadata": {},
     "output_type": "execute_result"
    }
   ],
   "source": [
    "from sklearn.metrics import accuracy_score\n",
    "acc_LR = accuracy_score(yhat, y_test)\n",
    "acc_LR"
   ]
  },
  {
   "cell_type": "markdown",
   "id": "62a7388c",
   "metadata": {
    "papermill": {
     "duration": 0.015684,
     "end_time": "2022-11-20T01:30:11.682993",
     "exception": false,
     "start_time": "2022-11-20T01:30:11.667309",
     "status": "completed"
    },
    "tags": []
   },
   "source": [
    "**DECISION TREE CLASSIFIER**"
   ]
  },
  {
   "cell_type": "code",
   "execution_count": 26,
   "id": "1213ce92",
   "metadata": {
    "execution": {
     "iopub.execute_input": "2022-11-20T01:30:11.717065Z",
     "iopub.status.busy": "2022-11-20T01:30:11.716309Z",
     "iopub.status.idle": "2022-11-20T01:30:11.831013Z",
     "shell.execute_reply": "2022-11-20T01:30:11.829610Z"
    },
    "papermill": {
     "duration": 0.135063,
     "end_time": "2022-11-20T01:30:11.833921",
     "exception": false,
     "start_time": "2022-11-20T01:30:11.698858",
     "status": "completed"
    },
    "tags": []
   },
   "outputs": [
    {
     "data": {
      "text/plain": [
       "DecisionTreeClassifier(criterion='entropy', max_depth=6)"
      ]
     },
     "execution_count": 26,
     "metadata": {},
     "output_type": "execute_result"
    }
   ],
   "source": [
    "from sklearn.tree import DecisionTreeClassifier\n",
    "DT_model = DecisionTreeClassifier(criterion='entropy', max_depth=6)\n",
    "DT_model.fit(X_train, y_train)\n",
    "DT_model"
   ]
  },
  {
   "cell_type": "code",
   "execution_count": 27,
   "id": "4de99cf9",
   "metadata": {
    "execution": {
     "iopub.execute_input": "2022-11-20T01:30:11.868801Z",
     "iopub.status.busy": "2022-11-20T01:30:11.868386Z",
     "iopub.status.idle": "2022-11-20T01:30:11.876682Z",
     "shell.execute_reply": "2022-11-20T01:30:11.875634Z"
    },
    "papermill": {
     "duration": 0.028377,
     "end_time": "2022-11-20T01:30:11.879140",
     "exception": false,
     "start_time": "2022-11-20T01:30:11.850763",
     "status": "completed"
    },
    "tags": []
   },
   "outputs": [
    {
     "data": {
      "text/plain": [
       "array([1, 1, 0, ..., 1, 1, 1])"
      ]
     },
     "execution_count": 27,
     "metadata": {},
     "output_type": "execute_result"
    }
   ],
   "source": [
    "yhat_DT = DT_model.predict(X_test)\n",
    "yhat_DT"
   ]
  },
  {
   "cell_type": "code",
   "execution_count": 28,
   "id": "2fcbc49e",
   "metadata": {
    "execution": {
     "iopub.execute_input": "2022-11-20T01:30:11.913036Z",
     "iopub.status.busy": "2022-11-20T01:30:11.912663Z",
     "iopub.status.idle": "2022-11-20T01:30:11.920599Z",
     "shell.execute_reply": "2022-11-20T01:30:11.919463Z"
    },
    "papermill": {
     "duration": 0.027862,
     "end_time": "2022-11-20T01:30:11.923166",
     "exception": false,
     "start_time": "2022-11-20T01:30:11.895304",
     "status": "completed"
    },
    "tags": []
   },
   "outputs": [
    {
     "data": {
      "text/plain": [
       "0.7723091076356946"
      ]
     },
     "execution_count": 28,
     "metadata": {},
     "output_type": "execute_result"
    }
   ],
   "source": [
    "acc_DT = accuracy_score(yhat_DT, y_test)\n",
    "acc_DT"
   ]
  },
  {
   "cell_type": "markdown",
   "id": "fe7b8683",
   "metadata": {
    "papermill": {
     "duration": 0.016015,
     "end_time": "2022-11-20T01:30:11.955653",
     "exception": false,
     "start_time": "2022-11-20T01:30:11.939638",
     "status": "completed"
    },
    "tags": []
   },
   "source": [
    "**K NEAREST NEIGHBOR**"
   ]
  },
  {
   "cell_type": "code",
   "execution_count": 29,
   "id": "31c9bbd7",
   "metadata": {
    "execution": {
     "iopub.execute_input": "2022-11-20T01:30:11.990644Z",
     "iopub.status.busy": "2022-11-20T01:30:11.990201Z",
     "iopub.status.idle": "2022-11-20T01:30:12.008473Z",
     "shell.execute_reply": "2022-11-20T01:30:12.007078Z"
    },
    "papermill": {
     "duration": 0.039307,
     "end_time": "2022-11-20T01:30:12.011359",
     "exception": false,
     "start_time": "2022-11-20T01:30:11.972052",
     "status": "completed"
    },
    "tags": []
   },
   "outputs": [
    {
     "data": {
      "text/plain": [
       "KNeighborsClassifier(n_neighbors=4)"
      ]
     },
     "execution_count": 29,
     "metadata": {},
     "output_type": "execute_result"
    }
   ],
   "source": [
    "from sklearn.neighbors import KNeighborsClassifier\n",
    "k = 4\n",
    "#Train model and predict\n",
    "kNN_model = KNeighborsClassifier(n_neighbors=k).fit(X_train, y_train)\n",
    "kNN_model"
   ]
  },
  {
   "cell_type": "code",
   "execution_count": 30,
   "id": "e2489d5c",
   "metadata": {
    "execution": {
     "iopub.execute_input": "2022-11-20T01:30:12.047532Z",
     "iopub.status.busy": "2022-11-20T01:30:12.046647Z",
     "iopub.status.idle": "2022-11-20T01:30:14.985338Z",
     "shell.execute_reply": "2022-11-20T01:30:14.983979Z"
    },
    "papermill": {
     "duration": 2.959962,
     "end_time": "2022-11-20T01:30:14.988436",
     "exception": false,
     "start_time": "2022-11-20T01:30:12.028474",
     "status": "completed"
    },
    "tags": []
   },
   "outputs": [
    {
     "data": {
      "text/plain": [
       "array([0.70791168, 0.72125115, 0.75206992, 0.75160994, 0.76632935,\n",
       "       0.76310948, 0.77736891, 0.77782889, 0.78380865, 0.77322907,\n",
       "       0.77598896, 0.76770929, 0.77138914, 0.77046918, 0.77460902,\n",
       "       0.77690892, 0.77414903, 0.77414903, 0.77736891])"
      ]
     },
     "execution_count": 30,
     "metadata": {},
     "output_type": "execute_result"
    }
   ],
   "source": [
    "#Best K\n",
    "Ks = 20\n",
    "mean_acc = np.zeros((Ks-1))\n",
    "std_acc = np.zeros((Ks-1))\n",
    "ConfusionMx = [];\n",
    "for n in range (1, Ks):\n",
    "    \n",
    "    #Test and Predict \n",
    "    kNN_model = KNeighborsClassifier(n_neighbors=n).fit(X_train, y_train)\n",
    "    yhat_kNN = kNN_model.predict(X_test)\n",
    "    \n",
    "    mean_acc[n-1] = np.mean(yhat_kNN==y_test);\n",
    "    std_acc[n-1] = np.std(yhat_kNN==y_test)/np.sqrt(y_test.shape[0])\n",
    "    \n",
    "mean_acc"
   ]
  },
  {
   "cell_type": "code",
   "execution_count": 31,
   "id": "b548ed94",
   "metadata": {
    "execution": {
     "iopub.execute_input": "2022-11-20T01:30:15.028034Z",
     "iopub.status.busy": "2022-11-20T01:30:15.027238Z",
     "iopub.status.idle": "2022-11-20T01:30:15.042124Z",
     "shell.execute_reply": "2022-11-20T01:30:15.040899Z"
    },
    "papermill": {
     "duration": 0.037309,
     "end_time": "2022-11-20T01:30:15.044389",
     "exception": false,
     "start_time": "2022-11-20T01:30:15.007080",
     "status": "completed"
    },
    "tags": []
   },
   "outputs": [
    {
     "data": {
      "text/plain": [
       "KNeighborsClassifier(n_neighbors=9)"
      ]
     },
     "execution_count": 31,
     "metadata": {},
     "output_type": "execute_result"
    }
   ],
   "source": [
    "#Building model with the best k 9:\n",
    "k = 9\n",
    "KNN_model = KNeighborsClassifier(n_neighbors=k).fit(X_train, y_train)\n",
    "KNN_model"
   ]
  },
  {
   "cell_type": "code",
   "execution_count": 32,
   "id": "994388ef",
   "metadata": {
    "execution": {
     "iopub.execute_input": "2022-11-20T01:30:15.079760Z",
     "iopub.status.busy": "2022-11-20T01:30:15.079351Z",
     "iopub.status.idle": "2022-11-20T01:30:15.231981Z",
     "shell.execute_reply": "2022-11-20T01:30:15.230742Z"
    },
    "papermill": {
     "duration": 0.172917,
     "end_time": "2022-11-20T01:30:15.234364",
     "exception": false,
     "start_time": "2022-11-20T01:30:15.061447",
     "status": "completed"
    },
    "tags": []
   },
   "outputs": [
    {
     "data": {
      "text/plain": [
       "array([0, 1, 0, ..., 1, 1, 1])"
      ]
     },
     "execution_count": 32,
     "metadata": {},
     "output_type": "execute_result"
    }
   ],
   "source": [
    "#Predict and check accuracy \n",
    "yhat_KNN = KNN_model.predict(X_test)\n",
    "yhat_KNN"
   ]
  },
  {
   "cell_type": "code",
   "execution_count": 33,
   "id": "1d4b4670",
   "metadata": {
    "execution": {
     "iopub.execute_input": "2022-11-20T01:30:15.271106Z",
     "iopub.status.busy": "2022-11-20T01:30:15.270506Z",
     "iopub.status.idle": "2022-11-20T01:30:15.277381Z",
     "shell.execute_reply": "2022-11-20T01:30:15.276165Z"
    },
    "papermill": {
     "duration": 0.027555,
     "end_time": "2022-11-20T01:30:15.279899",
     "exception": false,
     "start_time": "2022-11-20T01:30:15.252344",
     "status": "completed"
    },
    "tags": []
   },
   "outputs": [
    {
     "data": {
      "text/plain": [
       "0.7838086476540939"
      ]
     },
     "execution_count": 33,
     "metadata": {},
     "output_type": "execute_result"
    }
   ],
   "source": [
    "acc_KNN = accuracy_score(yhat_KNN, y_test)\n",
    "acc_KNN"
   ]
  },
  {
   "cell_type": "code",
   "execution_count": 34,
   "id": "c2f10ae6",
   "metadata": {
    "execution": {
     "iopub.execute_input": "2022-11-20T01:30:15.316655Z",
     "iopub.status.busy": "2022-11-20T01:30:15.315897Z",
     "iopub.status.idle": "2022-11-20T01:30:15.529753Z",
     "shell.execute_reply": "2022-11-20T01:30:15.528421Z"
    },
    "papermill": {
     "duration": 0.23537,
     "end_time": "2022-11-20T01:30:15.532276",
     "exception": false,
     "start_time": "2022-11-20T01:30:15.296906",
     "status": "completed"
    },
    "tags": []
   },
   "outputs": [
    {
     "data": {
      "image/png": "[encoded data removed]",
      "text/plain": [
       "<Figure size 432x288 with 1 Axes>"
      ]
     },
     "metadata": {
      "needs_background": "light"
     },
     "output_type": "display_data"
    }
   ],
   "source": [
    "#Let's plot a graph showing accuracy score diffrence accross diffrent classification models\n",
    "TY = np.array([acc_KNN, acc_LR, acc_DT])\n",
    "TX = np.array(['KNN Accuracy', 'LR Accuracy', 'DT Accuracy'])\n",
    "\n",
    "plt.bar(TX,TY)\n",
    "plt.show()"
   ]
  },
  {
   "cell_type": "markdown",
   "id": "7d62d1c1",
   "metadata": {
    "papermill": {
     "duration": 0.016464,
     "end_time": "2022-11-20T01:30:15.566185",
     "exception": false,
     "start_time": "2022-11-20T01:30:15.549721",
     "status": "completed"
    },
    "tags": []
   },
   "source": [
    "**CLEANING AND EXTRACTION OF REQUIRED FEATURES FROM TEST SET**"
   ]
  },
  {
   "cell_type": "code",
   "execution_count": 35,
   "id": "ef89e970",
   "metadata": {
    "execution": {
     "iopub.execute_input": "2022-11-20T01:30:15.601536Z",
     "iopub.status.busy": "2022-11-20T01:30:15.601146Z",
     "iopub.status.idle": "2022-11-20T01:30:15.613379Z",
     "shell.execute_reply": "2022-11-20T01:30:15.612099Z"
    },
    "papermill": {
     "duration": 0.032897,
     "end_time": "2022-11-20T01:30:15.615856",
     "exception": false,
     "start_time": "2022-11-20T01:30:15.582959",
     "status": "completed"
    },
    "tags": []
   },
   "outputs": [
    {
     "data": {
      "text/plain": [
       "PassengerId       0\n",
       "HomePlanet       87\n",
       "CryoSleep        93\n",
       "Cabin           100\n",
       "Destination      92\n",
       "Age              91\n",
       "VIP              93\n",
       "RoomService      82\n",
       "FoodCourt       106\n",
       "ShoppingMall     98\n",
       "Spa             101\n",
       "VRDeck           80\n",
       "Name             94\n",
       "dtype: int64"
      ]
     },
     "execution_count": 35,
     "metadata": {},
     "output_type": "execute_result"
    }
   ],
   "source": [
    "test.isnull().sum()"
   ]
  },
  {
   "cell_type": "code",
   "execution_count": 36,
   "id": "9ed0d9ac",
   "metadata": {
    "execution": {
     "iopub.execute_input": "2022-11-20T01:30:15.653440Z",
     "iopub.status.busy": "2022-11-20T01:30:15.652208Z",
     "iopub.status.idle": "2022-11-20T01:30:15.665108Z",
     "shell.execute_reply": "2022-11-20T01:30:15.663622Z"
    },
    "papermill": {
     "duration": 0.034759,
     "end_time": "2022-11-20T01:30:15.668262",
     "exception": false,
     "start_time": "2022-11-20T01:30:15.633503",
     "status": "completed"
    },
    "tags": []
   },
   "outputs": [
    {
     "name": "stdout",
     "output_type": "stream",
     "text": [
      "Number of null values in CryoSleep Column: 0\n"
     ]
    }
   ],
   "source": [
    "#So we are going to fill the NaN values in CryoSleep column evenly with both true and false values\n",
    "test[['CryoSleep']] = test[['CryoSleep']].fillna(value=False, limit=47)\n",
    "test[['CryoSleep']] = test[['CryoSleep']].fillna(value=True, limit=46)\n",
    "print('Number of null values in CryoSleep Column:', test['CryoSleep'].isna().sum())"
   ]
  },
  {
   "cell_type": "code",
   "execution_count": 37,
   "id": "8e98cded",
   "metadata": {
    "execution": {
     "iopub.execute_input": "2022-11-20T01:30:15.707443Z",
     "iopub.status.busy": "2022-11-20T01:30:15.706410Z",
     "iopub.status.idle": "2022-11-20T01:30:15.718934Z",
     "shell.execute_reply": "2022-11-20T01:30:15.717594Z"
    },
    "papermill": {
     "duration": 0.034537,
     "end_time": "2022-11-20T01:30:15.721336",
     "exception": false,
     "start_time": "2022-11-20T01:30:15.686799",
     "status": "completed"
    },
    "tags": []
   },
   "outputs": [
    {
     "name": "stdout",
     "output_type": "stream",
     "text": [
      "Number of null values in VIP Column: 0\n"
     ]
    }
   ],
   "source": [
    "#So we are going to fill the NaN values in VIP column evenly with both true and false values\n",
    "test[['VIP']] = test[['VIP']].fillna(value=False, limit=47)\n",
    "test[['VIP']] = test[['VIP']].fillna(value=True, limit=46)\n",
    "print('Number of null values in VIP Column:', test['VIP'].isna().sum())"
   ]
  },
  {
   "cell_type": "code",
   "execution_count": 38,
   "id": "fb6a1fba",
   "metadata": {
    "execution": {
     "iopub.execute_input": "2022-11-20T01:30:15.758372Z",
     "iopub.status.busy": "2022-11-20T01:30:15.757983Z",
     "iopub.status.idle": "2022-11-20T01:30:15.768314Z",
     "shell.execute_reply": "2022-11-20T01:30:15.767044Z"
    },
    "papermill": {
     "duration": 0.031703,
     "end_time": "2022-11-20T01:30:15.770655",
     "exception": false,
     "start_time": "2022-11-20T01:30:15.738952",
     "status": "completed"
    },
    "tags": []
   },
   "outputs": [
    {
     "name": "stdout",
     "output_type": "stream",
     "text": [
      "Null values in Age:  91\n",
      "Meadian of Age excluding NaN: 26.0\n"
     ]
    }
   ],
   "source": [
    "#Next we fill NaN values in Age\n",
    "gt = test['Age'].isna().sum()\n",
    "print('Null values in Age: ', gt)\n",
    "print('Meadian of Age excluding NaN:', test['Age'].median(skipna=True))\n",
    "test[['Age']] = test[['Age']].fillna(value=test['Age'].median(skipna=True))"
   ]
  },
  {
   "cell_type": "code",
   "execution_count": 39,
   "id": "5ee9632e",
   "metadata": {
    "execution": {
     "iopub.execute_input": "2022-11-20T01:30:15.809128Z",
     "iopub.status.busy": "2022-11-20T01:30:15.807998Z",
     "iopub.status.idle": "2022-11-20T01:30:15.824500Z",
     "shell.execute_reply": "2022-11-20T01:30:15.823577Z"
    },
    "papermill": {
     "duration": 0.03852,
     "end_time": "2022-11-20T01:30:15.826765",
     "exception": false,
     "start_time": "2022-11-20T01:30:15.788245",
     "status": "completed"
    },
    "tags": []
   },
   "outputs": [
    {
     "data": {
      "text/plain": [
       "PassengerId       0\n",
       "HomePlanet       87\n",
       "CryoSleep         0\n",
       "Cabin           100\n",
       "Destination      92\n",
       "Age               0\n",
       "VIP               0\n",
       "RoomService       0\n",
       "FoodCourt         0\n",
       "ShoppingMall      0\n",
       "Spa               0\n",
       "VRDeck            0\n",
       "Name             94\n",
       "dtype: int64"
      ]
     },
     "execution_count": 39,
     "metadata": {},
     "output_type": "execute_result"
    }
   ],
   "source": [
    "#Now we are going to fill the Nan values in RoomSerivce, FoodCourt, ShopingMall, VRdeck with 0.0\n",
    "test[['RoomService', 'FoodCourt', 'ShoppingMall', 'Spa', 'VRDeck']] = test[['RoomService', 'FoodCourt', 'ShoppingMall', 'Spa', 'VRDeck']].fillna(value=0.0)\n",
    "test.isnull().sum()"
   ]
  },
  {
   "cell_type": "code",
   "execution_count": 40,
   "id": "c6853e41",
   "metadata": {
    "execution": {
     "iopub.execute_input": "2022-11-20T01:30:15.864768Z",
     "iopub.status.busy": "2022-11-20T01:30:15.864106Z",
     "iopub.status.idle": "2022-11-20T01:30:15.877921Z",
     "shell.execute_reply": "2022-11-20T01:30:15.876699Z"
    },
    "papermill": {
     "duration": 0.035745,
     "end_time": "2022-11-20T01:30:15.880483",
     "exception": false,
     "start_time": "2022-11-20T01:30:15.844738",
     "status": "completed"
    },
    "tags": []
   },
   "outputs": [
    {
     "name": "stdout",
     "output_type": "stream",
     "text": [
      "NaN values in Homeplanet:  0\n"
     ]
    }
   ],
   "source": [
    "j = int((test['HomePlanet'].isna().sum())/3)\n",
    "test[['HomePlanet']] = test[['HomePlanet']].fillna(value='Earth', limit=j)\n",
    "test[['HomePlanet']] = test[['HomePlanet']].fillna(value='Europa', limit=j)\n",
    "test[['HomePlanet']] = test[['HomePlanet']].fillna(value='Mars', limit=j)\n",
    "print('NaN values in Homeplanet: ', test['HomePlanet'].isna().sum()) "
   ]
  },
  {
   "cell_type": "code",
   "execution_count": 41,
   "id": "d12cef3c",
   "metadata": {
    "execution": {
     "iopub.execute_input": "2022-11-20T01:30:15.917958Z",
     "iopub.status.busy": "2022-11-20T01:30:15.917319Z",
     "iopub.status.idle": "2022-11-20T01:30:15.928058Z",
     "shell.execute_reply": "2022-11-20T01:30:15.926846Z"
    },
    "papermill": {
     "duration": 0.032555,
     "end_time": "2022-11-20T01:30:15.930796",
     "exception": false,
     "start_time": "2022-11-20T01:30:15.898241",
     "status": "completed"
    },
    "tags": []
   },
   "outputs": [
    {
     "data": {
      "text/plain": [
       "PassengerId       0\n",
       "HomePlanet        0\n",
       "CryoSleep         0\n",
       "Cabin           100\n",
       "Destination      92\n",
       "Age               0\n",
       "VIP               0\n",
       "RoomService       0\n",
       "FoodCourt         0\n",
       "ShoppingMall      0\n",
       "Spa               0\n",
       "VRDeck            0\n",
       "Name             94\n",
       "dtype: int64"
      ]
     },
     "execution_count": 41,
     "metadata": {},
     "output_type": "execute_result"
    }
   ],
   "source": [
    "test.isnull().sum()"
   ]
  },
  {
   "cell_type": "markdown",
   "id": "cfdfd5ba",
   "metadata": {
    "papermill": {
     "duration": 0.017514,
     "end_time": "2022-11-20T01:30:15.967461",
     "exception": false,
     "start_time": "2022-11-20T01:30:15.949947",
     "status": "completed"
    },
    "tags": []
   },
   "source": [
    "**NORMALIZATION OF DATA SET**"
   ]
  },
  {
   "cell_type": "code",
   "execution_count": 42,
   "id": "12cc2fd6",
   "metadata": {
    "execution": {
     "iopub.execute_input": "2022-11-20T01:30:16.006221Z",
     "iopub.status.busy": "2022-11-20T01:30:16.005454Z",
     "iopub.status.idle": "2022-11-20T01:30:16.034556Z",
     "shell.execute_reply": "2022-11-20T01:30:16.033628Z"
    },
    "papermill": {
     "duration": 0.051748,
     "end_time": "2022-11-20T01:30:16.036902",
     "exception": false,
     "start_time": "2022-11-20T01:30:15.985154",
     "status": "completed"
    },
    "tags": []
   },
   "outputs": [
    {
     "data": {
      "text/html": [
       "<div>\n",
       "<style scoped>\n",
       "    .dataframe tbody tr th:only-of-type {\n",
       "        vertical-align: middle;\n",
       "    }\n",
       "\n",
       "    .dataframe tbody tr th {\n",
       "        vertical-align: top;\n",
       "    }\n",
       "\n",
       "    .dataframe thead th {\n",
       "        text-align: right;\n",
       "    }\n",
       "</style>\n",
       "<table border=\"1\" class=\"dataframe\">\n",
       "  <thead>\n",
       "    <tr style=\"text-align: right;\">\n",
       "      <th></th>\n",
       "      <th>PassengerId</th>\n",
       "      <th>HomePlanet</th>\n",
       "      <th>CryoSleep</th>\n",
       "      <th>Cabin</th>\n",
       "      <th>Destination</th>\n",
       "      <th>Age</th>\n",
       "      <th>VIP</th>\n",
       "      <th>RoomService</th>\n",
       "      <th>FoodCourt</th>\n",
       "      <th>ShoppingMall</th>\n",
       "      <th>Spa</th>\n",
       "      <th>VRDeck</th>\n",
       "      <th>Name</th>\n",
       "    </tr>\n",
       "  </thead>\n",
       "  <tbody>\n",
       "    <tr>\n",
       "      <th>0</th>\n",
       "      <td>0013_01</td>\n",
       "      <td>1</td>\n",
       "      <td>1</td>\n",
       "      <td>G/3/S</td>\n",
       "      <td>TRAPPIST-1e</td>\n",
       "      <td>27.0</td>\n",
       "      <td>0</td>\n",
       "      <td>0.0</td>\n",
       "      <td>0.0</td>\n",
       "      <td>0.0</td>\n",
       "      <td>0.0</td>\n",
       "      <td>0.0</td>\n",
       "      <td>Nelly Carsoning</td>\n",
       "    </tr>\n",
       "    <tr>\n",
       "      <th>1</th>\n",
       "      <td>0018_01</td>\n",
       "      <td>1</td>\n",
       "      <td>0</td>\n",
       "      <td>F/4/S</td>\n",
       "      <td>TRAPPIST-1e</td>\n",
       "      <td>19.0</td>\n",
       "      <td>0</td>\n",
       "      <td>0.0</td>\n",
       "      <td>9.0</td>\n",
       "      <td>0.0</td>\n",
       "      <td>2823.0</td>\n",
       "      <td>0.0</td>\n",
       "      <td>Lerome Peckers</td>\n",
       "    </tr>\n",
       "    <tr>\n",
       "      <th>2</th>\n",
       "      <td>0019_01</td>\n",
       "      <td>2</td>\n",
       "      <td>1</td>\n",
       "      <td>C/0/S</td>\n",
       "      <td>55 Cancri e</td>\n",
       "      <td>31.0</td>\n",
       "      <td>0</td>\n",
       "      <td>0.0</td>\n",
       "      <td>0.0</td>\n",
       "      <td>0.0</td>\n",
       "      <td>0.0</td>\n",
       "      <td>0.0</td>\n",
       "      <td>Sabih Unhearfus</td>\n",
       "    </tr>\n",
       "    <tr>\n",
       "      <th>3</th>\n",
       "      <td>0021_01</td>\n",
       "      <td>2</td>\n",
       "      <td>0</td>\n",
       "      <td>C/1/S</td>\n",
       "      <td>TRAPPIST-1e</td>\n",
       "      <td>38.0</td>\n",
       "      <td>0</td>\n",
       "      <td>0.0</td>\n",
       "      <td>6652.0</td>\n",
       "      <td>0.0</td>\n",
       "      <td>181.0</td>\n",
       "      <td>585.0</td>\n",
       "      <td>Meratz Caltilter</td>\n",
       "    </tr>\n",
       "    <tr>\n",
       "      <th>4</th>\n",
       "      <td>0023_01</td>\n",
       "      <td>1</td>\n",
       "      <td>0</td>\n",
       "      <td>F/5/S</td>\n",
       "      <td>TRAPPIST-1e</td>\n",
       "      <td>20.0</td>\n",
       "      <td>0</td>\n",
       "      <td>10.0</td>\n",
       "      <td>0.0</td>\n",
       "      <td>635.0</td>\n",
       "      <td>0.0</td>\n",
       "      <td>0.0</td>\n",
       "      <td>Brence Harperez</td>\n",
       "    </tr>\n",
       "  </tbody>\n",
       "</table>\n",
       "</div>"
      ],
      "text/plain": [
       "  PassengerId  HomePlanet  CryoSleep  Cabin  Destination   Age  VIP  \\\n",
       "0     0013_01           1          1  G/3/S  TRAPPIST-1e  27.0    0   \n",
       "1     0018_01           1          0  F/4/S  TRAPPIST-1e  19.0    0   \n",
       "2     0019_01           2          1  C/0/S  55 Cancri e  31.0    0   \n",
       "3     0021_01           2          0  C/1/S  TRAPPIST-1e  38.0    0   \n",
       "4     0023_01           1          0  F/5/S  TRAPPIST-1e  20.0    0   \n",
       "\n",
       "   RoomService  FoodCourt  ShoppingMall     Spa  VRDeck              Name  \n",
       "0          0.0        0.0           0.0     0.0     0.0   Nelly Carsoning  \n",
       "1          0.0        9.0           0.0  2823.0     0.0    Lerome Peckers  \n",
       "2          0.0        0.0           0.0     0.0     0.0   Sabih Unhearfus  \n",
       "3          0.0     6652.0           0.0   181.0   585.0  Meratz Caltilter  \n",
       "4         10.0        0.0         635.0     0.0     0.0   Brence Harperez  "
      ]
     },
     "execution_count": 42,
     "metadata": {},
     "output_type": "execute_result"
    }
   ],
   "source": [
    "test.replace(to_replace=[False, True, 'Earth', 'Europa', 'Mars'], value=[0, 1, 1, 2, 3], inplace=True)\n",
    "test.head()"
   ]
  },
  {
   "cell_type": "code",
   "execution_count": 43,
   "id": "edffecdc",
   "metadata": {
    "execution": {
     "iopub.execute_input": "2022-11-20T01:30:16.075803Z",
     "iopub.status.busy": "2022-11-20T01:30:16.074655Z",
     "iopub.status.idle": "2022-11-20T01:30:16.093233Z",
     "shell.execute_reply": "2022-11-20T01:30:16.091904Z"
    },
    "papermill": {
     "duration": 0.040047,
     "end_time": "2022-11-20T01:30:16.095718",
     "exception": false,
     "start_time": "2022-11-20T01:30:16.055671",
     "status": "completed"
    },
    "tags": []
   },
   "outputs": [
    {
     "data": {
      "text/html": [
       "<div>\n",
       "<style scoped>\n",
       "    .dataframe tbody tr th:only-of-type {\n",
       "        vertical-align: middle;\n",
       "    }\n",
       "\n",
       "    .dataframe tbody tr th {\n",
       "        vertical-align: top;\n",
       "    }\n",
       "\n",
       "    .dataframe thead th {\n",
       "        text-align: right;\n",
       "    }\n",
       "</style>\n",
       "<table border=\"1\" class=\"dataframe\">\n",
       "  <thead>\n",
       "    <tr style=\"text-align: right;\">\n",
       "      <th></th>\n",
       "      <th>HomePlanet</th>\n",
       "      <th>CryoSleep</th>\n",
       "      <th>Age</th>\n",
       "      <th>VIP</th>\n",
       "      <th>RoomService</th>\n",
       "      <th>FoodCourt</th>\n",
       "      <th>ShoppingMall</th>\n",
       "      <th>Spa</th>\n",
       "      <th>VRDeck</th>\n",
       "    </tr>\n",
       "  </thead>\n",
       "  <tbody>\n",
       "    <tr>\n",
       "      <th>0</th>\n",
       "      <td>1</td>\n",
       "      <td>1</td>\n",
       "      <td>27.0</td>\n",
       "      <td>0</td>\n",
       "      <td>0.0</td>\n",
       "      <td>0.0</td>\n",
       "      <td>0.0</td>\n",
       "      <td>0.0</td>\n",
       "      <td>0.0</td>\n",
       "    </tr>\n",
       "    <tr>\n",
       "      <th>1</th>\n",
       "      <td>1</td>\n",
       "      <td>0</td>\n",
       "      <td>19.0</td>\n",
       "      <td>0</td>\n",
       "      <td>0.0</td>\n",
       "      <td>9.0</td>\n",
       "      <td>0.0</td>\n",
       "      <td>2823.0</td>\n",
       "      <td>0.0</td>\n",
       "    </tr>\n",
       "    <tr>\n",
       "      <th>2</th>\n",
       "      <td>2</td>\n",
       "      <td>1</td>\n",
       "      <td>31.0</td>\n",
       "      <td>0</td>\n",
       "      <td>0.0</td>\n",
       "      <td>0.0</td>\n",
       "      <td>0.0</td>\n",
       "      <td>0.0</td>\n",
       "      <td>0.0</td>\n",
       "    </tr>\n",
       "    <tr>\n",
       "      <th>3</th>\n",
       "      <td>2</td>\n",
       "      <td>0</td>\n",
       "      <td>38.0</td>\n",
       "      <td>0</td>\n",
       "      <td>0.0</td>\n",
       "      <td>6652.0</td>\n",
       "      <td>0.0</td>\n",
       "      <td>181.0</td>\n",
       "      <td>585.0</td>\n",
       "    </tr>\n",
       "    <tr>\n",
       "      <th>4</th>\n",
       "      <td>1</td>\n",
       "      <td>0</td>\n",
       "      <td>20.0</td>\n",
       "      <td>0</td>\n",
       "      <td>10.0</td>\n",
       "      <td>0.0</td>\n",
       "      <td>635.0</td>\n",
       "      <td>0.0</td>\n",
       "      <td>0.0</td>\n",
       "    </tr>\n",
       "  </tbody>\n",
       "</table>\n",
       "</div>"
      ],
      "text/plain": [
       "   HomePlanet  CryoSleep   Age  VIP  RoomService  FoodCourt  ShoppingMall  \\\n",
       "0           1          1  27.0    0          0.0        0.0           0.0   \n",
       "1           1          0  19.0    0          0.0        9.0           0.0   \n",
       "2           2          1  31.0    0          0.0        0.0           0.0   \n",
       "3           2          0  38.0    0          0.0     6652.0           0.0   \n",
       "4           1          0  20.0    0         10.0        0.0         635.0   \n",
       "\n",
       "      Spa  VRDeck  \n",
       "0     0.0     0.0  \n",
       "1  2823.0     0.0  \n",
       "2     0.0     0.0  \n",
       "3   181.0   585.0  \n",
       "4     0.0     0.0  "
      ]
     },
     "execution_count": 43,
     "metadata": {},
     "output_type": "execute_result"
    }
   ],
   "source": [
    "#Let's filter out our feature columns\n",
    "test_X = test[['HomePlanet', 'CryoSleep', 'Age', 'VIP', 'RoomService', 'FoodCourt', 'ShoppingMall', 'Spa', 'VRDeck']]\n",
    "test_X[0:5]"
   ]
  },
  {
   "cell_type": "code",
   "execution_count": 44,
   "id": "a0ba4b8c",
   "metadata": {
    "execution": {
     "iopub.execute_input": "2022-11-20T01:30:16.134047Z",
     "iopub.status.busy": "2022-11-20T01:30:16.133364Z",
     "iopub.status.idle": "2022-11-20T01:30:16.145051Z",
     "shell.execute_reply": "2022-11-20T01:30:16.144178Z"
    },
    "papermill": {
     "duration": 0.033408,
     "end_time": "2022-11-20T01:30:16.147143",
     "exception": false,
     "start_time": "2022-11-20T01:30:16.113735",
     "status": "completed"
    },
    "tags": []
   },
   "outputs": [
    {
     "data": {
      "text/plain": [
       "array([[-0.84515116,  1.29997581, -0.11414662, ..., -0.31217285,\n",
       "        -0.26784148, -0.24671194],\n",
       "       [-0.84515116, -0.76924508, -0.68431317, ..., -0.31217285,\n",
       "         2.28750433, -0.24671194],\n",
       "       [ 0.38476089,  1.29997581,  0.17093665, ..., -0.31217285,\n",
       "        -0.26784148, -0.24671194],\n",
       "       ...,\n",
       "       [ 1.61467293,  1.29997581, -0.18541744, ..., -0.31217285,\n",
       "        -0.26784148, -0.24671194],\n",
       "       [ 0.38476089, -0.76924508, -0.18541744, ..., -0.31217285,\n",
       "        -0.26784148,  0.17647949],\n",
       "       [-0.84515116,  1.29997581,  1.02618647, ..., -0.31217285,\n",
       "        -0.26784148, -0.24671194]])"
      ]
     },
     "execution_count": 44,
     "metadata": {},
     "output_type": "execute_result"
    }
   ],
   "source": [
    "test_X = preprocessing.StandardScaler().fit(test_X).transform(test_X)\n",
    "test_X"
   ]
  },
  {
   "cell_type": "code",
   "execution_count": 45,
   "id": "803b2f08",
   "metadata": {
    "execution": {
     "iopub.execute_input": "2022-11-20T01:30:16.185512Z",
     "iopub.status.busy": "2022-11-20T01:30:16.184854Z",
     "iopub.status.idle": "2022-11-20T01:30:16.222134Z",
     "shell.execute_reply": "2022-11-20T01:30:16.220612Z"
    },
    "papermill": {
     "duration": 0.060947,
     "end_time": "2022-11-20T01:30:16.226219",
     "exception": false,
     "start_time": "2022-11-20T01:30:16.165272",
     "status": "completed"
    },
    "tags": []
   },
   "outputs": [
    {
     "data": {
      "text/plain": [
       "LogisticRegression(C=0.5)"
      ]
     },
     "execution_count": 45,
     "metadata": {},
     "output_type": "execute_result"
    }
   ],
   "source": [
    "#Now we will fit the model with the complete train set and predict the test data set\n",
    "#LogisticRegression\n",
    "LR_Model = LogisticRegression(C=0.5).fit(X, y)\n",
    "LR_Model"
   ]
  },
  {
   "cell_type": "code",
   "execution_count": 46,
   "id": "a2731070",
   "metadata": {
    "execution": {
     "iopub.execute_input": "2022-11-20T01:30:16.322928Z",
     "iopub.status.busy": "2022-11-20T01:30:16.322196Z",
     "iopub.status.idle": "2022-11-20T01:30:16.338766Z",
     "shell.execute_reply": "2022-11-20T01:30:16.337116Z"
    },
    "papermill": {
     "duration": 0.070857,
     "end_time": "2022-11-20T01:30:16.344209",
     "exception": false,
     "start_time": "2022-11-20T01:30:16.273352",
     "status": "completed"
    },
    "tags": []
   },
   "outputs": [
    {
     "data": {
      "text/plain": [
       "array([1, 0, 1, ..., 1, 1, 1])"
      ]
     },
     "execution_count": 46,
     "metadata": {},
     "output_type": "execute_result"
    }
   ],
   "source": [
    "#Now let's predict for LogisticRegression\n",
    "LR_pred = LR_Model.predict(test_X)\n",
    "LR_pred"
   ]
  },
  {
   "cell_type": "code",
   "execution_count": 47,
   "id": "fbaf74e6",
   "metadata": {
    "execution": {
     "iopub.execute_input": "2022-11-20T01:30:16.440858Z",
     "iopub.status.busy": "2022-11-20T01:30:16.440027Z",
     "iopub.status.idle": "2022-11-20T01:30:16.460093Z",
     "shell.execute_reply": "2022-11-20T01:30:16.459069Z"
    },
    "papermill": {
     "duration": 0.071145,
     "end_time": "2022-11-20T01:30:16.462667",
     "exception": false,
     "start_time": "2022-11-20T01:30:16.391522",
     "status": "completed"
    },
    "tags": []
   },
   "outputs": [],
   "source": [
    "result = test[['PassengerId']].reset_index(drop=True)\n",
    "result['Transported'] = LR_pred\n",
    "result.replace(to_replace=[1,0], value=[True, False], inplace=True)\n",
    "result.to_csv('LR_submission.csv', index=False)"
   ]
  },
  {
   "cell_type": "code",
   "execution_count": 48,
   "id": "b97e2860",
   "metadata": {
    "execution": {
     "iopub.execute_input": "2022-11-20T01:30:16.501435Z",
     "iopub.status.busy": "2022-11-20T01:30:16.500673Z",
     "iopub.status.idle": "2022-11-20T01:30:16.528211Z",
     "shell.execute_reply": "2022-11-20T01:30:16.527096Z"
    },
    "papermill": {
     "duration": 0.049664,
     "end_time": "2022-11-20T01:30:16.530588",
     "exception": false,
     "start_time": "2022-11-20T01:30:16.480924",
     "status": "completed"
    },
    "tags": []
   },
   "outputs": [
    {
     "data": {
      "text/plain": [
       "DecisionTreeClassifier(criterion='entropy', max_depth=6)"
      ]
     },
     "execution_count": 48,
     "metadata": {},
     "output_type": "execute_result"
    }
   ],
   "source": [
    "#Building model with Decision Tree Classifier\n",
    "DT_Model = DecisionTreeClassifier(criterion='entropy', max_depth=6)\n",
    "DT_Model = DT_Model.fit(X, y)\n",
    "DT_Model"
   ]
  },
  {
   "cell_type": "code",
   "execution_count": 49,
   "id": "b939b87c",
   "metadata": {
    "execution": {
     "iopub.execute_input": "2022-11-20T01:30:16.570647Z",
     "iopub.status.busy": "2022-11-20T01:30:16.569868Z",
     "iopub.status.idle": "2022-11-20T01:30:16.578130Z",
     "shell.execute_reply": "2022-11-20T01:30:16.576985Z"
    },
    "papermill": {
     "duration": 0.031081,
     "end_time": "2022-11-20T01:30:16.580448",
     "exception": false,
     "start_time": "2022-11-20T01:30:16.549367",
     "status": "completed"
    },
    "tags": []
   },
   "outputs": [
    {
     "data": {
      "text/plain": [
       "array([0, 0, 0, ..., 0, 0, 0])"
      ]
     },
     "execution_count": 49,
     "metadata": {},
     "output_type": "execute_result"
    }
   ],
   "source": [
    "#Runing Prediction with Decision Tree model\n",
    "DT_pred = DT_Model.predict(test_X)\n",
    "DT_pred"
   ]
  },
  {
   "cell_type": "code",
   "execution_count": 50,
   "id": "4107e8ac",
   "metadata": {
    "execution": {
     "iopub.execute_input": "2022-11-20T01:30:16.619433Z",
     "iopub.status.busy": "2022-11-20T01:30:16.619008Z",
     "iopub.status.idle": "2022-11-20T01:30:16.634690Z",
     "shell.execute_reply": "2022-11-20T01:30:16.633594Z"
    },
    "papermill": {
     "duration": 0.037974,
     "end_time": "2022-11-20T01:30:16.637224",
     "exception": false,
     "start_time": "2022-11-20T01:30:16.599250",
     "status": "completed"
    },
    "tags": []
   },
   "outputs": [],
   "source": [
    "result_DT = test[['PassengerId']].reset_index(drop=True)\n",
    "result_DT['Transported'] = DT_pred\n",
    "result_DT.replace(to_replace=[1,0], value=[True, False], inplace=True)\n",
    "result_DT.to_csv('DT_submission.csv', index=False)"
   ]
  },
  {
   "cell_type": "code",
   "execution_count": 51,
   "id": "62447df4",
   "metadata": {
    "execution": {
     "iopub.execute_input": "2022-11-20T01:30:16.677417Z",
     "iopub.status.busy": "2022-11-20T01:30:16.677037Z",
     "iopub.status.idle": "2022-11-20T01:30:16.694860Z",
     "shell.execute_reply": "2022-11-20T01:30:16.693810Z"
    },
    "papermill": {
     "duration": 0.040389,
     "end_time": "2022-11-20T01:30:16.697156",
     "exception": false,
     "start_time": "2022-11-20T01:30:16.656767",
     "status": "completed"
    },
    "tags": []
   },
   "outputs": [
    {
     "data": {
      "text/plain": [
       "KNeighborsClassifier(n_neighbors=9)"
      ]
     },
     "execution_count": 51,
     "metadata": {},
     "output_type": "execute_result"
    }
   ],
   "source": [
    "#For our final classification prediction we use K Nearest Neighbors\n",
    "#Building model with our best k = 9\n",
    "k = 9\n",
    "KNN_Model = KNeighborsClassifier(n_neighbors=k).fit(X, y)\n",
    "KNN_Model"
   ]
  },
  {
   "cell_type": "code",
   "execution_count": 52,
   "id": "16dc5cfd",
   "metadata": {
    "execution": {
     "iopub.execute_input": "2022-11-20T01:30:16.736305Z",
     "iopub.status.busy": "2022-11-20T01:30:16.735915Z",
     "iopub.status.idle": "2022-11-20T01:30:17.150911Z",
     "shell.execute_reply": "2022-11-20T01:30:17.149461Z"
    },
    "papermill": {
     "duration": 0.437701,
     "end_time": "2022-11-20T01:30:17.153581",
     "exception": false,
     "start_time": "2022-11-20T01:30:16.715880",
     "status": "completed"
    },
    "tags": []
   },
   "outputs": [
    {
     "data": {
      "text/plain": [
       "array([0, 0, 1, ..., 1, 1, 0])"
      ]
     },
     "execution_count": 52,
     "metadata": {},
     "output_type": "execute_result"
    }
   ],
   "source": [
    "KNN_pred = KNN_Model.predict(test_X)\n",
    "KNN_pred"
   ]
  },
  {
   "cell_type": "code",
   "execution_count": 53,
   "id": "5b25fd5e",
   "metadata": {
    "execution": {
     "iopub.execute_input": "2022-11-20T01:30:17.194406Z",
     "iopub.status.busy": "2022-11-20T01:30:17.193975Z",
     "iopub.status.idle": "2022-11-20T01:30:17.211892Z",
     "shell.execute_reply": "2022-11-20T01:30:17.210328Z"
    },
    "papermill": {
     "duration": 0.042149,
     "end_time": "2022-11-20T01:30:17.214800",
     "exception": false,
     "start_time": "2022-11-20T01:30:17.172651",
     "status": "completed"
    },
    "tags": []
   },
   "outputs": [],
   "source": [
    "result_KNN = test[['PassengerId']].reset_index(drop=True)\n",
    "result_KNN['Transported'] = KNN_pred\n",
    "result_KNN.replace(to_replace=[1,0], value=[True, False], inplace=True)\n",
    "result_KNN.to_csv('KNN_submission.csv', index=False)"
   ]
  }
 ],
 "metadata": {
  "kernelspec": {
   "display_name": "Python 3",
   "language": "python",
   "name": "python3"
  },
  "language_info": {
   "codemirror_mode": {
    "name": "ipython",
    "version": 3
   },
   "file_extension": ".py",
   "mimetype": "text/x-python",
   "name": "python",
   "nbconvert_exporter": "python",
   "pygments_lexer": "ipython3",
   "version": "3.7.12"
  },
  "papermill": {
   "default_parameters": {},
   "duration": 18.024314,
   "end_time": "2022-11-20T01:30:18.057004",
   "environment_variables": {},
   "exception": null,
   "input_path": "__notebook__.ipynb",
   "output_path": "__notebook__.ipynb",
   "parameters": {},
   "start_time": "2022-11-20T01:30:00.032690",
   "version": "2.3.4"
  }
 },
 "nbformat": 4,
 "nbformat_minor": 5
}
